{
 "cells": [
  {
   "cell_type": "markdown",
   "metadata": {},
   "source": [
    "# Linear Regression with R-squared cost function from scratch\n",
    "This is going to take you through steps of creating your own Linear Regression model from scratch; using a the cost function of 'R-squared', which aims to imporve the line of best fit."
   ]
  },
  {
   "cell_type": "code",
   "execution_count": 1,
   "metadata": {
    "collapsed": true
   },
   "outputs": [],
   "source": [
    "#Import librarys \n",
    "import numpy as np\n",
    "import pandas as pd\n",
    "import matplotlib.pyplot as plt\n",
    "from matplotlib import style\n",
    "style.use('fivethirtyeight')"
   ]
  },
  {
   "cell_type": "markdown",
   "metadata": {},
   "source": [
    "We will create and use our own data; which will be small, to give a quick demonstration and give a clear understanding"
   ]
  },
  {
   "cell_type": "code",
   "execution_count": 2,
   "metadata": {
    "collapsed": true
   },
   "outputs": [],
   "source": [
    "#Our data with x= features, y = labels\n",
    "x = np.array([1,2,3,4,5,6,7,8,9])\n",
    "y = np.array([4,4,6,5,6,7,7,8,8])"
   ]
  },
  {
   "cell_type": "markdown",
   "metadata": {},
   "source": [
    "We will first define the line of best and the intercept. This can be computed as y = mx + b.\n",
    "Where 'm' is the slope and 'b' is the y-intercept (where the line crosses the y-axis).\n",
    "\n",
    "We already have our 'y' and 'x' values, but we will need to get the 'm' and 'b' values. \n",
    "1. m = mean(x) • mean(y) - mean(x•y) / mean(x)^2 - mean(x^2)\n",
    "2. b = mean(y) - m • mean(x)"
   ]
  },
  {
   "cell_type": "code",
   "execution_count": 3,
   "metadata": {
    "collapsed": true
   },
   "outputs": [],
   "source": [
    "def best_fit_slope_and_intercept(x,y):\n",
    "    m = (((np.mean(x) * np.mean(y)) - np.mean(x * y)) /\n",
    "        ((np.mean(x)**2) - (np.mean(x**2))))\n",
    "    b = np.mean(y) - m * np.mean(x)\n",
    "    return m, b"
   ]
  },
  {
   "cell_type": "markdown",
   "metadata": {},
   "source": [
    "We will now create our cost function. We will use R-squared, which is a statistical measure of how close the data are to the fitted regression line. If the squared error line is small, then the line is a good fit. \n",
    "\n",
    "**SE = squared error**\n",
    "1. SE of regression line = (y(1)-(mx+b))^2 + (y(2)-(mx+b))^2 + ... (y(n)-(mx+b))^2\n",
    "2. SE of mean(y) = (y(1)-mean(y)) + (y(2)-mean(y)) + ... (y(n)-mean(y))\n",
    "3. R-squared = 1 - SE of regression line / SE of mean(y)"
   ]
  },
  {
   "cell_type": "code",
   "execution_count": 4,
   "metadata": {
    "collapsed": true
   },
   "outputs": [],
   "source": [
    "def squared_error(y_actual, y_predicted):\n",
    "    return sum((y_predicted-y_actual)**2)\n",
    "\n",
    "def coefficient(y_actual, y_predicted):\n",
    "    y_mean_line = [np.mean(y_actual) for i in y_actual]\n",
    "    sqaured_error_reg = squared_error(y_actual, y_predicted)\n",
    "    sqaured_error_mean = squared_error(y_actual, y_mean_line)\n",
    "    return 1 - (sqaured_error_reg / sqaured_error_mean)"
   ]
  },
  {
   "cell_type": "code",
   "execution_count": 5,
   "metadata": {
    "collapsed": true
   },
   "outputs": [],
   "source": [
    "m,b = best_fit_slope_and_intercept(x,y)\n",
    "\n",
    "#The new line of best fit\n",
    "reg_line = (m*x)+b"
   ]
  },
  {
   "cell_type": "markdown",
   "metadata": {},
   "source": [
    "That is it, we have computed the line of best fit with the R-squared error. We can now visualise this in a table and graph."
   ]
  },
  {
   "cell_type": "code",
   "execution_count": 6,
   "metadata": {},
   "outputs": [
    {
     "data": {
      "text/html": [
       "<div>\n",
       "<style>\n",
       "    .dataframe thead tr:only-child th {\n",
       "        text-align: right;\n",
       "    }\n",
       "\n",
       "    .dataframe thead th {\n",
       "        text-align: left;\n",
       "    }\n",
       "\n",
       "    .dataframe tbody tr th {\n",
       "        vertical-align: top;\n",
       "    }\n",
       "</style>\n",
       "<table border=\"1\" class=\"dataframe\">\n",
       "  <thead>\n",
       "    <tr style=\"text-align: right;\">\n",
       "      <th></th>\n",
       "      <th>x-axis</th>\n",
       "      <th>y-axis</th>\n",
       "      <th>Estimated(y)</th>\n",
       "      <th>Error</th>\n",
       "    </tr>\n",
       "  </thead>\n",
       "  <tbody>\n",
       "    <tr>\n",
       "      <th>0</th>\n",
       "      <td>1</td>\n",
       "      <td>4</td>\n",
       "      <td>3.977778</td>\n",
       "      <td>-0.022222</td>\n",
       "    </tr>\n",
       "    <tr>\n",
       "      <th>1</th>\n",
       "      <td>2</td>\n",
       "      <td>4</td>\n",
       "      <td>4.511111</td>\n",
       "      <td>0.511111</td>\n",
       "    </tr>\n",
       "    <tr>\n",
       "      <th>2</th>\n",
       "      <td>3</td>\n",
       "      <td>6</td>\n",
       "      <td>5.044444</td>\n",
       "      <td>-0.955556</td>\n",
       "    </tr>\n",
       "    <tr>\n",
       "      <th>3</th>\n",
       "      <td>4</td>\n",
       "      <td>5</td>\n",
       "      <td>5.577778</td>\n",
       "      <td>0.577778</td>\n",
       "    </tr>\n",
       "    <tr>\n",
       "      <th>4</th>\n",
       "      <td>5</td>\n",
       "      <td>6</td>\n",
       "      <td>6.111111</td>\n",
       "      <td>0.111111</td>\n",
       "    </tr>\n",
       "    <tr>\n",
       "      <th>5</th>\n",
       "      <td>6</td>\n",
       "      <td>7</td>\n",
       "      <td>6.644444</td>\n",
       "      <td>-0.355556</td>\n",
       "    </tr>\n",
       "    <tr>\n",
       "      <th>6</th>\n",
       "      <td>7</td>\n",
       "      <td>7</td>\n",
       "      <td>7.177778</td>\n",
       "      <td>0.177778</td>\n",
       "    </tr>\n",
       "    <tr>\n",
       "      <th>7</th>\n",
       "      <td>8</td>\n",
       "      <td>8</td>\n",
       "      <td>7.711111</td>\n",
       "      <td>-0.288889</td>\n",
       "    </tr>\n",
       "    <tr>\n",
       "      <th>8</th>\n",
       "      <td>9</td>\n",
       "      <td>8</td>\n",
       "      <td>8.244444</td>\n",
       "      <td>0.244444</td>\n",
       "    </tr>\n",
       "  </tbody>\n",
       "</table>\n",
       "</div>"
      ],
      "text/plain": [
       "   x-axis  y-axis  Estimated(y)     Error\n",
       "0       1       4      3.977778 -0.022222\n",
       "1       2       4      4.511111  0.511111\n",
       "2       3       6      5.044444 -0.955556\n",
       "3       4       5      5.577778  0.577778\n",
       "4       5       6      6.111111  0.111111\n",
       "5       6       7      6.644444 -0.355556\n",
       "6       7       7      7.177778  0.177778\n",
       "7       8       8      7.711111 -0.288889\n",
       "8       9       8      8.244444  0.244444"
      ]
     },
     "execution_count": 6,
     "metadata": {},
     "output_type": "execute_result"
    }
   ],
   "source": [
    "#The error\n",
    "r_squared_error = reg_line - y\n",
    "\n",
    "df = pd.DataFrame({ 'x-axis' : pd.Series(x), \n",
    "                    'y-axis' : pd.Series(y), \n",
    "                    'Estimated(y)': pd.Series(reg_line),\n",
    "                    'Error' : pd.Series(r_squared_error) })\n",
    "df = df[['x-axis','y-axis','Estimated(y)','Error']]\n",
    "df"
   ]
  },
  {
   "cell_type": "code",
   "execution_count": 7,
   "metadata": {},
   "outputs": [
    {
     "data": {
      "text/plain": [
       "0.9035294117647058"
      ]
     },
     "execution_count": 7,
     "metadata": {},
     "output_type": "execute_result"
    }
   ],
   "source": [
    "r_squared = coefficient(y, reg_line)\n",
    "r_squared"
   ]
  },
  {
   "cell_type": "code",
   "execution_count": 9,
   "metadata": {
    "collapsed": true
   },
   "outputs": [],
   "source": [
    "predict_x = 7\n",
    "predict_y = (m*predict_x) + b"
   ]
  },
  {
   "cell_type": "code",
   "execution_count": 12,
   "metadata": {},
   "outputs": [
    {
     "data": {
      "image/png": "[encoded data removed]",
      "text/plain": [
       "<matplotlib.figure.Figure at 0x23de2791e10>"
      ]
     },
     "metadata": {},
     "output_type": "display_data"
    }
   ],
   "source": [
    "plt.scatter(x,y)\n",
    "plt.scatter(predict_x,predict_y, s=100)\n",
    "plt.plot(x,reg_line)\n",
    "plt.show()"
   ]
  }
 ],
 "metadata": {
  "kernelspec": {
   "display_name": "Python 3",
   "language": "python",
   "name": "python3"
  },
  "language_info": {
   "codemirror_mode": {
    "name": "ipython",
    "version": 3
   },
   "file_extension": ".py",
   "mimetype": "text/x-python",
   "name": "python",
   "nbconvert_exporter": "python",
   "pygments_lexer": "ipython3",
   "version": "3.6.1"
  }
 },
 "nbformat": 4,
 "nbformat_minor": 2
}
